{
  "nbformat": 4,
  "nbformat_minor": 0,
  "metadata": {
    "colab": {
      "name": "BasicRegressionipynb",
      "provenance": [],
      "collapsed_sections": [],
      "authorship_tag": "ABX9TyN/AAfq/hYOGrQqmHaKgk3F",
      "include_colab_link": true
    },
    "kernelspec": {
      "name": "python3",
      "display_name": "Python 3"
    }
  },
  "cells": [
    {
      "cell_type": "markdown",
      "metadata": {
        "id": "view-in-github",
        "colab_type": "text"
      },
      "source": [
        "<a href=\"https://colab.research.google.com/github/ericchu2595/911_EmergencyCall_Study/blob/main/BasicRegressionipynb.ipynb\" target=\"_parent\"><img src=\"https://colab.research.google.com/assets/colab-badge.svg\" alt=\"Open In Colab\"/></a>"
      ]
    },
    {
      "cell_type": "code",
      "metadata": {
        "colab": {
          "base_uri": "https://localhost:8080/"
        },
        "id": "yr3_Y7fEYBJy",
        "outputId": "79325a2b-aab0-4839-f4a9-459f8801c4a9"
      },
      "source": [
        "import pandas as pd\r\n",
        "# this line imports pandas library.\r\n",
        "# pandas is a fast, powerful, flexible and easy to use open source data analysis and manipulation tool.\r\n",
        "\r\n",
        "import numpy as np\r\n",
        "# this line imports the numpy library\r\n",
        "# numpy is the fundamental package for scientific computing in Python.\r\n",
        "\r\n",
        "import statsmodels.formula.api as smf\r\n",
        "# imports the statsmodel module\r\n",
        "# statsmodels is a Python module that provides classes and functions for the estimation of many different statistical models, \r\n",
        "# as well as for conducting statistical tests, and statistical data exploration\r\n",
        "\r\n",
        "from sklearn.linear_model import LinearRegression\r\n",
        "# imports the schikit-learn library in python.\r\n",
        "# Scikit-learn is a library in Python that provides many unsupervised and supervised learning algorithms.\r\n",
        "\r\n",
        "from matplotlib import pyplot as plt\r\n",
        "#  imports the matplotlib library\r\n",
        "#  Matplotlib is a comprehensive library for creating static, animated, and interactive visualizations in Python."
      ],
      "execution_count": 5,
      "outputs": [
        {
          "output_type": "stream",
          "text": [
            "/usr/local/lib/python3.6/dist-packages/statsmodels/tools/_testing.py:19: FutureWarning: pandas.util.testing is deprecated. Use the functions in the public API at pandas.testing instead.\n",
            "  import pandas.util.testing as tm\n"
          ],
          "name": "stderr"
        }
      ]
    },
    {
      "cell_type": "code",
      "metadata": {
        "id": "_8lO1zihYS4y"
      },
      "source": [
        "# Let's Generate some 'random' data\r\n",
        "\r\n",
        "np.random.seed(10) # array of 100 values with mean = 1.5, stddev = 2.5\r\n",
        "# generates pseudo-random numbers give the seed 10\r\n",
        "\r\n",
        "X = 2.5 * np.random.rand(1000) + 1.5 # generate 100 residual terms\r\n",
        "# we define the variable \"X\" with np.random.rand(1000) * stddev and add the mean\r\n",
        "# np.random.rand(1000) will create an array of 1000 random numbers.\r\n",
        "\r\n",
        "res = 0.5 * np.random.randn(1000)\r\n",
        "# we define the variable \"res\" by calling for np.random.randn(1000)\r\n",
        "# which returns a sample of 1000 numbers from the \"standard normal\" distribution.\r\n",
        "# we then multiply this sample by 0.5.\r\n",
        "\r\n",
        "y= 2 +0.3 * x + res # actual values of Y\r\n",
        "# we define Y by adding 2 to (0.3 * x) and adding res to find Y\r\n"
      ],
      "execution_count": 21,
      "outputs": []
    },
    {
      "cell_type": "code",
      "metadata": {
        "id": "Snx5CbGFYnfx"
      },
      "source": [
        "df = pd.DataFrame({'X': X, 'y': y})\r\n",
        "# Create pandas dataframe to store our X and y values from a dictionary\r\n"
      ],
      "execution_count": 11,
      "outputs": []
    },
    {
      "cell_type": "code",
      "metadata": {
        "id": "LC8aHdAcYz-u"
      },
      "source": [
        "xmean = np.mean(X)\r\n",
        "# we define 'xmean' by taking the mean of the variable 'x'.\r\n",
        "ymean = np.mean(y)\r\n",
        "# we define 'ymean' by taking the mean of the variable 'y'."
      ],
      "execution_count": 12,
      "outputs": []
    },
    {
      "cell_type": "code",
      "metadata": {
        "id": "ceZCgvvbZUmG"
      },
      "source": [
        "# Calculate the terms needed for the numerator and demoninator of beta\r\n",
        "df['xycov'] = (df['X'] - xmean) * (df['y'] - ymean)\r\n",
        "# we index the column 'xycov' and define it so that it equals to ('X' - xmean) - ('y' - ymean)\r\n",
        "\r\n",
        "df['xvar'] = (df['X'] - xmean)**2\r\n",
        "## we index the column 'xvar' and define it so that it equals to ('X' - xmean)**2"
      ],
      "execution_count": 13,
      "outputs": []
    },
    {
      "cell_type": "code",
      "metadata": {
        "colab": {
          "base_uri": "https://localhost:8080/"
        },
        "id": "CH6uSyp5ZyYG",
        "outputId": "119d0443-91a9-4029-bbaf-a3e30e56f93a"
      },
      "source": [
        "# Calculate beta and alpha\r\n",
        "\r\n",
        "beta = df['xycov'].sum() / df['xvar'].sum()\r\n",
        "# we define beta by indexing the column 'xycov' and find the sum of the column and then\r\n",
        "# divide it by the sum of the column 'xvar' \r\n",
        "\r\n",
        "alpha = ymean - (beta * xmean)\r\n",
        "# we define alpha by taking the 'ymean' and subtracting it by the the multiple of 'beta' and 'xmean'\r\n",
        "\r\n",
        "print(f'alpha = {alpha}')\r\n",
        "# f string print variable\r\n",
        "print(f'beta = {beta}')\r\n",
        "# f spring print variable"
      ],
      "execution_count": 17,
      "outputs": [
        {
          "output_type": "stream",
          "text": [
            "alpha = 1.9740256624840407\n",
            "beta = 0.3059572718727978\n"
          ],
          "name": "stdout"
        }
      ]
    },
    {
      "cell_type": "code",
      "metadata": {
        "id": "OVSIGNOPaA6d"
      },
      "source": [
        "# Great, we now have an estiamte for alpha and beta!\r\n",
        "\r\n",
        "ypred = alpha + beta * X\r\n",
        "# we define ypred by setting it equal to the sum of alpha + beta * X"
      ],
      "execution_count": 18,
      "outputs": []
    },
    {
      "cell_type": "code",
      "metadata": {
        "colab": {
          "base_uri": "https://localhost:8080/",
          "height": 421
        },
        "id": "Xr_Lkwn3aNJ2",
        "outputId": "a09ae038-4390-4b64-bc09-ef3518abb98c"
      },
      "source": [
        "# Lets plot our prediction ypred against the actual values of y,\r\n",
        "# to get a better visual understanding of our model.\r\n",
        "\r\n",
        "# Plot regression against actual data\r\n",
        "\r\n",
        "plt.figure(figsize=(12,6))\r\n",
        "# create a graph wit the width of 12 and height of 6\r\n",
        "\r\n",
        "plt.plot(X, ypred) # regression line\r\n",
        "# plots the x and ypred values onto the chart to create a regression line\r\n",
        "\r\n",
        "plt.plot(X, y, 'ro') # scatter plot showing actual data\r\n",
        "# plots the x and y values onto the chart to create a scatter plot\r\n",
        "\r\n",
        "plt.title('Actual vs Predicted')\r\n",
        "# sets the chart title\r\n",
        "\r\n",
        "plt.xlabel('X')\r\n",
        "# set the x axis name\r\n",
        "\r\n",
        "plt.ylabel('y')\r\n",
        "# set the y axis name"
      ],
      "execution_count": 19,
      "outputs": [
        {
          "output_type": "execute_result",
          "data": {
            "text/plain": [
              "Text(0, 0.5, 'y')"
            ]
          },
          "metadata": {
            "tags": []
          },
          "execution_count": 19
        },
        {
          "output_type": "display_data",
          "data": {
            "image/png": "[encoded data removed]",
            "text/plain": [
              "<Figure size 864x432 with 1 Axes>"
            ]
          },
          "metadata": {
            "tags": [],
            "needs_background": "light"
          }
        }
      ]
    },
    {
      "cell_type": "code",
      "metadata": {
        "id": "KOwAxbWtaoVP"
      },
      "source": [
        ""
      ],
      "execution_count": null,
      "outputs": []
    }
  ]
}